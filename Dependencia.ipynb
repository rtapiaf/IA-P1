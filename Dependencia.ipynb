{
 "cells": [
  {
   "cell_type": "code",
   "execution_count": 8,
   "metadata": {},
   "outputs": [
    {
     "name": "stdout",
     "output_type": "stream",
     "text": [
      "('Jaime',)\n",
      "('Joselin',)\n",
      "('Ronald',)\n",
      "('Hernan',)\n",
      "('Lucio',)\n",
      "('Ivet',)\n",
      "('Walter',)\n",
      "('Ronald',)\n",
      "('Joselin',)\n",
      "('Joselin',)\n"
     ]
    }
   ],
   "source": [
    "from kanren import Relation, facts,run,var\n",
    "x=var()\n",
    "padre = Relation()\n",
    "facts(padre,(\"Jaime\",\"Ronald\"),\n",
    "            (\"Jaime\",\"Ivet\"),\n",
    "            (\"Lucio\",\"Jaime\"),\n",
    "            (\"Lucio\",\"Walter\"),\n",
    "            (\"Lucio\",\"Hernan\"),\n",
    "            (\"Hernan\",\"Joselin\"))\n",
    "hermano = Relation()\n",
    "facts(hermano,(\"Ronald\",\"Ivet\"),\n",
    "              (\"Ivet\",\"Ronald\"),\n",
    "              (\"Jaime\",\"Walter\"),\n",
    "              (\"Jaime\",\"Hernan\"),\n",
    "              (\"Walter\",\"Jaime\"),\n",
    "              (\"Walter\",\"Hernan\"),\n",
    "              (\"Hernan\",\"Jaime\"),\n",
    "              (\"Hernan\",\"Walter\"))\n",
    "abuelo = Relation()\n",
    "facts(abuelo,(\"Lucio\",\"Ronald\"),\n",
    "             (\"Lucio\",\"Ivet\"),\n",
    "             (\"Lucio\",\"Joselin\"))\n",
    "tio = Relation()\n",
    "facts(tio, (\"Jaime\",\"Joselin\"),\n",
    "           (\"Walter\",\"Ronald\"),\n",
    "           (\"Walter\",\"Ivet\"),\n",
    "           (\"Walter\",\"Joselin\"),\n",
    "           (\"Hernan\",\"Ronald\"),\n",
    "           (\"Hernan\",\"Ivet\"))\n",
    "primo = Relation()\n",
    "facts(primo,     (\"Ronald\",\"Joselin\"),\n",
    "                (\"Ivet\",\"Joselin\"),\n",
    "                (\"Joselin\",\"Ronald\"),\n",
    "                (\"Joselin\",\"Ivet\"))\n",
    "\n",
    "print(run(1,x,padre(x,\"Ronald\")))\n",
    "print(run(1,x,padre(\"Hernan\",x)))\n",
    "print(run(1,x,hermano(\"Ivet\",x)))\n",
    "print(run(1,x,hermano(x,\"Walter\")))\n",
    "print(run(1,x,abuelo(x,\"Ivet\")))\n",
    "print(run(1,x,abuelo(\"Lucio\",x)))\n",
    "print(run(1,x,tio(x,\"Joselin\")))\n",
    "print(run(1,x,tio(\"Hernan\",x)))\n",
    "print(run(1,x,primo(x,\"Ronald\")))\n",
    "print(run(1,x,primo(\"Ivet\",x)))"
   ]
  },
  {
   "cell_type": "code",
   "execution_count": null,
   "metadata": {},
   "outputs": [],
   "source": []
  }
 ],
 "metadata": {
  "kernelspec": {
   "display_name": "Python 3",
   "language": "python",
   "name": "python3"
  },
  "language_info": {
   "codemirror_mode": {
    "name": "ipython",
    "version": 3
   },
   "file_extension": ".py",
   "mimetype": "text/x-python",
   "name": "python",
   "nbconvert_exporter": "python",
   "pygments_lexer": "ipython3",
   "version": "3.7.1"
  }
 },
 "nbformat": 4,
 "nbformat_minor": 2
}
